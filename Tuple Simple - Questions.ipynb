{
 "cells": [
  {
   "cell_type": "markdown",
   "metadata": {},
   "source": [
    "# Tuples Simple Questions "
   ]
  },
  {
   "cell_type": "code",
   "execution_count": 1,
   "metadata": {},
   "outputs": [],
   "source": [
    "1. Write a Python program to print convert a list into a tuple.\n",
    "    Data:\n",
    "        x = [1,2]\n",
    "    Expected Output:\n",
    "        x - [1, 2]\n",
    "        <class 'list'>\n",
    "        y - (1, 2)\n",
    "        <class 'tuple'>        \n",
    "        \n",
    "      \n",
    "        "
   ]
  },
  {
   "cell_type": "code",
   "execution_count": 3,
   "metadata": {},
   "outputs": [
    {
     "name": "stdout",
     "output_type": "stream",
     "text": [
      "x -  [1, 2]\n",
      "<class 'list'>\n",
      "y - (1, 2)\n",
      "<class 'tuple'>\n"
     ]
    }
   ],
   "source": [
    "x = [1,2]\n",
    "print(\"x - \",x)\n",
    "print(type(x))\n",
    "\n",
    "y=tuple(x)\n",
    "print(\"y -\",y)\n",
    "print(type(y))"
   ]
  },
  {
   "cell_type": "code",
   "execution_count": 5,
   "metadata": {},
   "outputs": [
    {
     "name": "stdout",
     "output_type": "stream",
     "text": [
      "('tuples', 3.2, 1)\n"
     ]
    }
   ],
   "source": [
    "'''2. Write a Python program to create a tuple with different data types.\n",
    "    Data:\n",
    "        x = (\"tuples\",3.2, 1)\n",
    "    Expected Output:\n",
    "        ('tuples', 3.2, 1)\n",
    "        \n",
    "        '''\n",
    "x = (\"tuples\",3.2, 1)\n",
    "print(x)\n"
   ]
  },
  {
   "cell_type": "code",
   "execution_count": 7,
   "metadata": {},
   "outputs": [
    {
     "name": "stdout",
     "output_type": "stream",
     "text": [
      "<class 'tuple'>\n",
      "5\n",
      "10\n",
      "15\n",
      "20\n",
      "25\n"
     ]
    }
   ],
   "source": [
    "'''3. Write a Python program to create a tuple with numbers and print the items one by one.\n",
    "    Data:\n",
    "        x = 5, 10, 15, 20, 25\n",
    "    Expected Output:\n",
    "        <class 'tuple'> \n",
    "        (5, 10, 15, 20, 25)\n",
    "        5\n",
    "        10\n",
    "        15\n",
    "        20\n",
    "        25'''\n",
    "        \n",
    "x = (5, 10, 15, 20, 25)    \n",
    "print(type(x))   \n",
    "for i in x:\n",
    "    print(i)"
   ]
  },
  {
   "cell_type": "code",
   "execution_count": 12,
   "metadata": {},
   "outputs": [
    {
     "name": "stdout",
     "output_type": "stream",
     "text": [
      "volatality\n"
     ]
    }
   ],
   "source": [
    "'''4. Write a Python program to convert a tuple of characters into a string.\n",
    "    Data:\n",
    "        x = ('v', 'o', 'l', 'a', 't', 'a', 'l', 'i', 't', 'y')\n",
    "    Expected Output:\n",
    "        volatility'''\n",
    "        \n",
    "x = ('v', 'o', 'l', 'a', 't', 'a', 'l', 'i', 't', 'y')\n",
    "y=''.join(x)\n",
    "print(y)\n",
    "        \n",
    "        "
   ]
  },
  {
   "cell_type": "code",
   "execution_count": 14,
   "metadata": {},
   "outputs": [
    {
     "name": "stdout",
     "output_type": "stream",
     "text": [
      "(1, 2, 3)\n",
      "[1, 2, 3]\n"
     ]
    }
   ],
   "source": [
    "'''5. Write a Python program to convert a tuple into a list.\n",
    "    Data:\n",
    "        x=(1,2,3)\n",
    "    Expected Output:\n",
    "        (1, 2, 3)\n",
    "        [1, 2, 3]\n",
    "'''        \n",
    "x=(1,2,3)\n",
    "print(x)\n",
    "y=list(x)\n",
    "print(y)\n",
    "        \n",
    "        "
   ]
  },
  {
   "cell_type": "code",
   "execution_count": 20,
   "metadata": {},
   "outputs": [
    {
     "name": "stdout",
     "output_type": "stream",
     "text": [
      "['a', 'b', 'd']\n",
      "('a', 'b', 'd')\n"
     ]
    }
   ],
   "source": [
    "'''6. Write a Python program to remove an element from a tuple.\n",
    "    Data:\n",
    "        x = (\"a\",\"b\",\"c\",\"d\")\n",
    "    Expected Output:\n",
    "        ('a', 'b', 'd')\n",
    "        '''\n",
    "x = (\"a\",\"b\",\"c\",\"d\")\n",
    "y = list(x)\n",
    "y.remove(\"c\")     \n",
    "print(y)    \n",
    "z=tuple(y)\n",
    "print(z)"
   ]
  },
  {
   "cell_type": "code",
   "execution_count": 27,
   "metadata": {},
   "outputs": [
    {
     "name": "stdout",
     "output_type": "stream",
     "text": [
      "('p', 'o', 's', 'i', 't', 'i', 'o', 'n', 's')\n",
      "9\n"
     ]
    }
   ],
   "source": [
    "'''7. Write a Python program to find the length of a tuple.\n",
    "    Data:\n",
    "        x = (\"positions\")\n",
    "    Expected Output:\n",
    "        ('p', 'o', 's', 'i', 't', 'i', 'o', 'n', 's')\n",
    "        9\n",
    "'''     \n",
    "x = (\"positions\")\n",
    "t = tuple(x)\n",
    "print(t)\n",
    "print(len(t))\n"
   ]
  },
  {
   "cell_type": "code",
   "execution_count": 29,
   "metadata": {},
   "outputs": [
    {
     "name": "stdout",
     "output_type": "stream",
     "text": [
      "{2: 'w', 3: 'r'}\n",
      "{'w': 2, 'r': 3}\n"
     ]
    }
   ],
   "source": [
    "'''8. Write a Python program to convert a tuple into a dictionary.\n",
    "    Data:\n",
    "        x = ((2, \"w\"),(3, \"r\"))\n",
    "    Expected Output:\n",
    "        {'w': 2, 'r': 3}  '''\n",
    "        \n",
    "x = ((2, \"w\"),(3, \"r\"))\n",
    "y=dict(x)\n",
    "print(y)\n",
    "\n",
    "x = ((2, \"w\"),(3, \"r\"))\n",
    "d= {v:k for k,v in x}\n",
    "print(d)\n",
    "\n",
    "        "
   ]
  },
  {
   "cell_type": "code",
   "execution_count": 35,
   "metadata": {},
   "outputs": [
    {
     "name": "stdout",
     "output_type": "stream",
     "text": [
      "('B', 'a', 's', 'k', 'a', 'r')\n",
      "('r', 'a', 'k', 's', 'a', 'B')\n",
      "(5, 10, 15, 20)\n",
      "(20, 15, 10, 5)\n"
     ]
    }
   ],
   "source": [
    "'''9. Write a Python program to reverse the tuple elements.\n",
    "    Data:\n",
    "        x = (\"Baskar\")\n",
    "        x = (5, 10, 15, 20)\n",
    "    Expected Output:\n",
    "        ('r', 'a', 'k', 's', 'a', 'B')\n",
    "        (20, 15, 10, 5)\n",
    "'''       \n",
    "x = (\"Baskar\")\n",
    "y = (5, 10, 15, 20)\n",
    "\n",
    "a=tuple(x)\n",
    "print(a)\n",
    "reverse_a=a[::-1]\n",
    "print(reverse_a)\n",
    "\n",
    "\n",
    "b=tuple(y)\n",
    "print(b)\n",
    "reverse_b=b[::-1]\n",
    "print(reverse_b)\n",
    "\n",
    "        "
   ]
  },
  {
   "cell_type": "code",
   "execution_count": 40,
   "metadata": {},
   "outputs": [
    {
     "name": "stdout",
     "output_type": "stream",
     "text": [
      "(4, 8, 3)\n",
      "15\n",
      "(4, 8, 3)\n",
      "15\n"
     ]
    }
   ],
   "source": [
    "'''10. Write a Python program to unpack a tuple in several variables.  \n",
    "    Data:\n",
    "        x = 4, 8, 3\n",
    "    Expected Output:\n",
    "        (4, 8, 3)\n",
    "        15'''\n",
    "\n",
    "#method 1:\n",
    "x = (4, 8, 3)   \n",
    "a,b,c=x\n",
    "print(x)\n",
    "print(a+b+c)\n",
    "\n",
    "#method 2\n",
    "x = (4, 8, 3)   \n",
    "print(x)\n",
    "y=sum(x)   \n",
    "print(y)      "
   ]
  },
  {
   "cell_type": "code",
   "execution_count": 38,
   "metadata": {},
   "outputs": [
    {
     "name": "stdout",
     "output_type": "stream",
     "text": [
      "('Boss', [8, 4, 6], (1, 2, 3))\n"
     ]
    }
   ],
   "source": [
    "'''11. Write a Python program to create a nested tuple.\n",
    "    Data:\n",
    "        x = (\"Boss\", [8, 4, 6], (1, 2, 3)) \n",
    "    Expected Output:\n",
    "        ('Boss', [8, 4, 6], (1, 2, 3))\n",
    "        \n",
    "'''        \n",
    "x = (\"Boss\", [8, 4, 6], (1, 2, 3))  \n",
    "print(x)"
   ]
  },
  {
   "cell_type": "code",
   "execution_count": 44,
   "metadata": {},
   "outputs": [
    {
     "name": "stdout",
     "output_type": "stream",
     "text": [
      "<class 'str'>\n",
      "('h', 'e', 'l', 'l', 'o')\n",
      "<class 'tuple'>\n"
     ]
    }
   ],
   "source": [
    "'''12. Write a Python program to convert a string into a tuple.\n",
    "    Data:\n",
    "        x = (\"hello\")\n",
    "    Expected Output:\n",
    "        <class 'str'>\n",
    "        <class 'tuple'>\n",
    "        '''      \n",
    "x = (\"hello\")\n",
    "print(type(x))\n",
    "y=tuple(x)\n",
    "print(y)\n",
    "print(type(y))"
   ]
  },
  {
   "cell_type": "code",
   "execution_count": 47,
   "metadata": {},
   "outputs": [
    {
     "name": "stdout",
     "output_type": "stream",
     "text": [
      "x[0] is : B\n",
      "x[5] is : r\n"
     ]
    }
   ],
   "source": [
    "'''13. Write a Python program to access tuple elements using index.\n",
    "    Data:\n",
    "        x = ('B','a','s','k','a','r')\n",
    "    Expected Output:\n",
    "        x[0] is : B\n",
    "        x[5] is : r\n",
    "'''\n",
    "x = ('B','a','s','k','a','r')\n",
    "print(\"x[0] is :\",x[0])\n",
    "print(\"x[5] is :\",x[5])\n",
    "\n",
    "        \n",
    "        \n",
    "        "
   ]
  },
  {
   "cell_type": "code",
   "execution_count": 48,
   "metadata": {},
   "outputs": [
    {
     "name": "stdout",
     "output_type": "stream",
     "text": [
      "x[0][3] is : s\n",
      "x[1][1] is : 4\n"
     ]
    }
   ],
   "source": [
    "'''14. Write a Python program to access nested tuple elements using index. \n",
    "    Data:\n",
    "        x = (\"Boss\", [8, 4, 6], (1, 2, 3)) \n",
    "    Expected Output:\n",
    "        x[0][3] is : s\n",
    "        x[1][1] is : 4'''\n",
    "        \n",
    "x = (\"Boss\", [8, 4, 6], (1, 2, 3)) \n",
    "print(\"x[0][3] is :\",x[0][3])\n",
    "print(\"x[1][1] is :\",x[1][1])\n",
    "\n",
    "        \n",
    "        "
   ]
  },
  {
   "cell_type": "code",
   "execution_count": 49,
   "metadata": {},
   "outputs": [
    {
     "name": "stdout",
     "output_type": "stream",
     "text": [
      "x[-1] is : r\n",
      "x[-6] is : B\n"
     ]
    }
   ],
   "source": [
    "'''15. Write a Python program to access tuple elements using negative index.\n",
    "    Data:\n",
    "        x = ('B','a','s','k','a','r')\n",
    "    Expected Output:\n",
    "        x[-1] is : r\n",
    "        x[-6] is : B'''\n",
    "        \n",
    "x = ('B','a','s','k','a','r')  \n",
    "print(\"x[-1] is :\",x[-1])\n",
    "print(\"x[-6] is :\",x[-6])\n",
    "        \n",
    "        "
   ]
  },
  {
   "cell_type": "code",
   "execution_count": 50,
   "metadata": {},
   "outputs": [
    {
     "name": "stdout",
     "output_type": "stream",
     "text": [
      "z=x+y :  (1, 12, 123, 4, 9)\n",
      "z*3 : (1, 12, 123, 4, 9, 1, 12, 123, 4, 9, 1, 12, 123, 4, 9)\n"
     ]
    }
   ],
   "source": [
    "'''16. Write a Python program to use + and * operators in a tuple and print the results in tuple.\n",
    "    Data:\n",
    "        x : (1, 12, 123)\n",
    "        y : (4, 9)    \n",
    "    Expected Output:\n",
    "        z = x + y : (1, 12, 123, 4, 9)\n",
    "        z * 3 : (1, 12, 123, 4, 9, 1, 12, 123, 4, 9, 1, 12, 123, 4, 9)\n",
    "   '''     \n",
    "x = (1, 12, 123)\n",
    "y = (4, 9)       \n",
    "z=x+y\n",
    "k=z*3\n",
    "print(\"z=x+y : \",z)\n",
    "print(\"z*3 :\",k)\n",
    "        "
   ]
  },
  {
   "cell_type": "code",
   "execution_count": 51,
   "metadata": {},
   "outputs": [
    {
     "name": "stdout",
     "output_type": "stream",
     "text": [
      "hello boss\n",
      "hello sai\n"
     ]
    }
   ],
   "source": [
    "'''17. Write a Python program to print each elements of a tuple using for loop.\n",
    "    Data:\n",
    "        Tuple x = ('boss','sai')\n",
    "    Expected Output:\n",
    "        Hello boss\n",
    "        Hello bala'''\n",
    "        \n",
    "x = ('boss','sai')\n",
    "for i in x:\n",
    "    print(\"hello\",i)\n",
    "        \n",
    "        "
   ]
  },
  {
   "cell_type": "code",
   "execution_count": 61,
   "metadata": {},
   "outputs": [
    {
     "name": "stdout",
     "output_type": "stream",
     "text": [
      "count of p is : 2\n",
      "Index of l is : 3\n"
     ]
    }
   ],
   "source": [
    "'''18. Write a Python program to print the count of 'p' and the index of 'l' from the given tuple using tuple methods.\n",
    "    Data: \n",
    "        x = ('a', 'p', 'p', 'l', 'e')\n",
    "    Expected Output:\n",
    "        Count of p is : 2\n",
    "        Index of l is : 3'''\n",
    "\n",
    "x = ('a', 'p', 'p', 'l', 'e')\n",
    "print(\"count of p is :\",x.count('p'))\n",
    "print(\"Index of l is :\",x.index('l'))\n",
    "\n",
    "        "
   ]
  },
  {
   "cell_type": "code",
   "execution_count": 65,
   "metadata": {},
   "outputs": [
    {
     "name": "stdout",
     "output_type": "stream",
     "text": [
      "(1, [9, 8, 7], 'boss')\n",
      "(1, [9, 8, 77], 'boss')\n"
     ]
    }
   ],
   "source": [
    "'''19. Write a Python program to update an element of a given tuple from 7 to 77.\n",
    "    Data:\n",
    "        x = (1, [9, 8, 7], \"boss\")\n",
    "    Expected Output:\n",
    "        (1, [9, 8, 7], 'boss')\n",
    "        (1, [9, 8, 77], 'boss')'''\n",
    "        \n",
    "x = (1, [9, 8, 7], \"boss\")\n",
    "print(x)\n",
    "x[1][2]=77\n",
    "print(x)\n",
    "        "
   ]
  },
  {
   "cell_type": "code",
   "execution_count": 66,
   "metadata": {},
   "outputs": [
    {
     "name": "stdout",
     "output_type": "stream",
     "text": [
      "(11, 22, 33, 44, 55, 66, 77, 88, 99)\n",
      "(33, 44, 55)\n",
      "(11, 22, 33, 44)\n",
      "(55, 66, 77, 88, 99)\n",
      "(55, 66, 77, 88)\n",
      "(11, 22, 33, 44, 55, 66, 77, 88, 99)\n"
     ]
    }
   ],
   "source": [
    "'''20. Write a Python program to slice a tuple.\n",
    "    Data: \n",
    "        x = (11, 22, 33, 44, 55, 66, 77, 88, 99)\n",
    "    Expected Output:\n",
    "        (11, 22, 33, 44, 55, 66, 77, 88, 99)\n",
    "        (33, 44, 55)\n",
    "        (11, 22, 33, 44)\n",
    "        (55, 66, 77, 88, 99)\n",
    "        (55, 66, 77, 88)\n",
    "        (11, 22, 33, 44, 55, 66, 77, 88, 99)'''\n",
    "        \n",
    "x = (11, 22, 33, 44, 55, 66, 77, 88, 99)\n",
    "print(x)\n",
    "print(x[2:5])\n",
    "print(x[:4])\n",
    "print(x[4:])\n",
    "print(x[4:-1])\n",
    "print(x)\n",
    "        \n",
    "        "
   ]
  },
  {
   "cell_type": "code",
   "execution_count": null,
   "metadata": {},
   "outputs": [],
   "source": []
  }
 ],
 "metadata": {
  "kernelspec": {
   "display_name": "Python [conda env:base] *",
   "language": "python",
   "name": "conda-base-py"
  },
  "language_info": {
   "codemirror_mode": {
    "name": "ipython",
    "version": 3
   },
   "file_extension": ".py",
   "mimetype": "text/x-python",
   "name": "python",
   "nbconvert_exporter": "python",
   "pygments_lexer": "ipython3",
   "version": "3.13.5"
  }
 },
 "nbformat": 4,
 "nbformat_minor": 4
}
