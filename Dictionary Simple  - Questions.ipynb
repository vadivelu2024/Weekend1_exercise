{
 "cells": [
  {
   "cell_type": "markdown",
   "metadata": {},
   "source": [
    "# Dictionary Simple Questions"
   ]
  },
  {
   "cell_type": "code",
   "execution_count": 1,
   "metadata": {},
   "outputs": [
    {
     "name": "stdout",
     "output_type": "stream",
     "text": [
      "{0: 10, 1: 20, 2: 30}\n"
     ]
    }
   ],
   "source": [
    "'''1. Write a Python program to add a new key to the dictionary.\n",
    "    Data:\n",
    "        x = {0: 10, 1: 20}\n",
    "        y = {2: 30}\n",
    "    Expected Output:\n",
    "        {0: 10, 1: 20, 2: 30} \n",
    "        '''\n",
    "x = {0: 10, 1: 20}\n",
    "y = {2: 30}\n",
    "x.update(y)\n",
    "print(x)\n",
    "        \n",
    "        "
   ]
  },
  {
   "cell_type": "code",
   "execution_count": 6,
   "metadata": {},
   "outputs": [
    {
     "name": "stdout",
     "output_type": "stream",
     "text": [
      "a -> 10\n",
      "b -> 20\n",
      "c -> 30\n"
     ]
    }
   ],
   "source": [
    "'''2. Write a Python program to iterate over dictionaries using for loops.\n",
    "    Data:\n",
    "        d = {\"a\":10, \"b\":20, \"c\":30,}\n",
    "    Expected Output:\n",
    "        a -> 10\n",
    "        b -> 20\n",
    "        c -> 30'''\n",
    "\n",
    "d = {\"a\":10, \"b\":20, \"c\":30,}\n",
    "for k,v in d.items():\n",
    "    print(f\"{k} -> {v}\")\n",
    "        "
   ]
  },
  {
   "cell_type": "code",
   "execution_count": 8,
   "metadata": {},
   "outputs": [
    {
     "name": "stdout",
     "output_type": "stream",
     "text": [
      "dict_values([100, -50, 200])\n",
      "250\n"
     ]
    }
   ],
   "source": [
    "'''3. Write a Python program to sum all the values in a dictionary. \n",
    "    Data:\n",
    "        d = {\"data1\":100, \"data2\":-50, \"data3\":200}\n",
    "    Expected Output:\n",
    "        250'''\n",
    "        \n",
    "d = {\"data1\":100, \"data2\":-50, \"data3\":200}    \n",
    "e=d.values()\n",
    "f=sum(e)\n",
    "print(e)\n",
    "print(f)\n",
    "\n",
    "        "
   ]
  },
  {
   "cell_type": "code",
   "execution_count": 13,
   "metadata": {},
   "outputs": [
    {
     "name": "stdout",
     "output_type": "stream",
     "text": [
      "dict_values([100, -50, 200])\n",
      "-1000000\n"
     ]
    }
   ],
   "source": [
    "'''4. Write a Python program to multiply all the values in a dictionary.\n",
    "    Data:\n",
    "        d={\"data1\":100, \"data2\":-50, \"data3\":200}\n",
    "    Expected Output:\n",
    "        -1000000'''\n",
    "        \n",
    "d={\"data1\":100, \"data2\":-50, \"data3\":200}\n",
    "e=d.values()\n",
    "print(e)\n",
    "j=1\n",
    "for i in e:\n",
    "    j=i*j\n",
    "print(j)\n",
    "        "
   ]
  },
  {
   "cell_type": "code",
   "execution_count": 16,
   "metadata": {},
   "outputs": [
    {
     "name": "stdout",
     "output_type": "stream",
     "text": [
      "{'b': 2, 'c': 3, 'd': 4}\n"
     ]
    }
   ],
   "source": [
    "'''5. Write a Python program to remove a key from a dictionary.\n",
    "    Data:\n",
    "        d={\"a\":1,\"b\":2,\"c\":3,\"d\":4}\n",
    "    Expected Output:\n",
    "        {'a': 1, 'b': 2, 'c': 3, 'd': 4}\n",
    "        {'b': 2, 'c': 3, 'd': 4}'''\n",
    "        \n",
    "d={\"a\":1,\"b\":2,\"c\":3,\"d\":4}\n",
    "del d[\"a\"]\n",
    "print(d)\n",
    "        "
   ]
  },
  {
   "cell_type": "code",
   "execution_count": 23,
   "metadata": {},
   "outputs": [
    {
     "name": "stdout",
     "output_type": "stream",
     "text": [
      "{'Chandler': 'Sarcasm', 'Monica': 'Chef', 'Joey': 'Food'}\n"
     ]
    }
   ],
   "source": [
    "'''6. Write a Python program to map two lists into a dictionary.\n",
    "    Data:\n",
    "        keys = [\"Chandler\", \"Monica\", \"Joey\"]\n",
    "        values = [\"Sarcasm\", \"Chef\", \"Food\"]\n",
    "    Expected Output:\n",
    "        {'Chandler': 'Sarcasm', 'Monica': 'Chef', 'Joey': 'Food'}\n",
    "'''\n",
    "keys = [\"Chandler\", \"Monica\", \"Joey\"]\n",
    "values = [\"Sarcasm\", \"Chef\", \"Food\"]  \n",
    "\n",
    "c=dict(zip(keys,values))\n",
    "print(c)\n",
    "\n",
    "       \n",
    "        \n"
   ]
  },
  {
   "cell_type": "code",
   "execution_count": 29,
   "metadata": {},
   "outputs": [
    {
     "name": "stdout",
     "output_type": "stream",
     "text": [
      "Chandler: Sarcasm\n",
      "Joey: Food\n",
      "Monica: Chef\n",
      "Rachel: Fashion\n",
      "Ross: Dinosaur\n"
     ]
    }
   ],
   "source": [
    "'''7. Write a Python program to sort a dictionary by key. \n",
    "    Data:\n",
    "        dict = {'Chandler': 'Sarcasm', 'Monica': 'Chef', 'Joey': 'Food', 'Ross': 'Dinosaur', 'Rachel': 'Fashion'}\n",
    "\n",
    "    Expected Output:\n",
    "        Chandler: Sarcasm\n",
    "        Joey: Food\n",
    "        Monica: Chef\n",
    "        Rachel: Fashion\n",
    "        Ross: Dinosaur'''\n",
    "            \n",
    "d = {'Chandler': 'Sarcasm', 'Monica': 'Chef', 'Joey': 'Food', 'Ross': 'Dinosaur', 'Rachel': 'Fashion'}\n",
    "\n",
    "for key in sorted(d):\n",
    "    print(f\"{key}: {d[key]}\")"
   ]
  },
  {
   "cell_type": "code",
   "execution_count": 30,
   "metadata": {},
   "outputs": [
    {
     "name": "stdout",
     "output_type": "stream",
     "text": [
      "Dictionary is empty\n"
     ]
    }
   ],
   "source": [
    "'''8. Write a Python program to check whether a dictionary is empty or not.\n",
    "    Data:\n",
    "        dict={}\n",
    "    Expected Output:\n",
    "        Dictionary is empty'''\n",
    "\n",
    "d = {}\n",
    "\n",
    "if not d:\n",
    "    print(\"Dictionary is empty\")"
   ]
  },
  {
   "cell_type": "code",
   "execution_count": 37,
   "metadata": {},
   "outputs": [
    {
     "name": "stdout",
     "output_type": "stream",
     "text": [
      "physics\n",
      "math\n",
      "chemistry\n"
     ]
    }
   ],
   "source": [
    "'''9. Write a Python program to print the keys by index in a dictionary.\n",
    "    Data:\n",
    "        d = {'physics': 90, 'math': 100, 'chemistry': 96}\n",
    "    Expected Output:\n",
    "        physics\n",
    "        math\n",
    "        chemistry'''\n",
    "\n",
    "d = {'physics': 90, 'math': 100, 'chemistry': 96}\n",
    "keys=list(d.keys())\n",
    "\n",
    "for i in range(len(keys)):\n",
    "    print(keys[i])\n",
    "        \n",
    "        \n",
    "        \n",
    "        "
   ]
  },
  {
   "cell_type": "code",
   "execution_count": 43,
   "metadata": {},
   "outputs": [
    {
     "name": "stdout",
     "output_type": "stream",
     "text": [
      "{1: 10, 2: 20, 3: 30, 4: 40, 5: 50, 6: 60}\n",
      "{3: 30, 4: 40, 1: 10, 2: 20}\n",
      "{5: 50, 6: 60, 3: 30, 4: 40, 1: 10, 2: 20}\n"
     ]
    }
   ],
   "source": [
    "'''10. Write a Python program to concatenate following dictionaries to create a new one.\n",
    "    Data:\n",
    "        d1={1:10, 2:20} \n",
    "        d2={3:30, 4:40} \n",
    "        d3={5:50, 6:60}\n",
    "    Expected Output:\n",
    "        {1: 10, 2: 20, 3: 30, 4: 40, 5: 50, 6: 60}'''\n",
    "        \n",
    "d1={1:10, 2:20} \n",
    "d2={3:30, 4:40} \n",
    "d3={5:50, 6:60}   \n",
    "result = {}\n",
    "result.update(d1)\n",
    "result.update(d2)\n",
    "result.update(d3)\n",
    "print(result)\n",
    "\n",
    "#method2\n",
    "d2.update(d1)\n",
    "d3.update(d2)\n",
    "print(d2)\n",
    "print(d3)"
   ]
  },
  {
   "cell_type": "code",
   "execution_count": 48,
   "metadata": {},
   "outputs": [
    {
     "name": "stdout",
     "output_type": "stream",
     "text": [
      "{1: 1, 2: 4, 3: 9, 4: 16, 5: 25, 6: 36}\n"
     ]
    }
   ],
   "source": [
    "\"\"\"11. Write a Python program to generate a dictionary that has length n and the elements in the format of {x: x*x}. \n",
    "    Data:\n",
    "         n = 6\n",
    "    Expected Output:\n",
    "        {1: 1, 2: 4, 3: 9, 4: 16, 5: 25, 6: 36}\"\"\"\n",
    "        \n",
    "y={x:x*x for x in range(1,7)}\n",
    "print(y)\n",
    "        \n",
    "        "
   ]
  },
  {
   "cell_type": "code",
   "execution_count": 51,
   "metadata": {},
   "outputs": [
    {
     "name": "stdout",
     "output_type": "stream",
     "text": [
      "{1: 1, 2: 4, 3: 9, 4: 16, 5: 25, 6: 36, 7: 49, 8: 64, 9: 81, 10: 100, 11: 121, 12: 144, 13: 169, 14: 196, 15: 225}\n"
     ]
    }
   ],
   "source": [
    "\"\"\"12. Write a Python program to print a dictionary where the keys are numbers between 1 and 15 (both included) and \n",
    "    the values are square of keys.\n",
    "    Expected Output:\n",
    "        {1: 1, 2: 4, 3: 9, 4: 16, 5: 25, 6: 36, 7: 49, 8: 64, 9: 81, 10: 100, 11: 121, 12: 144, 13: 169, 14: 196, 15: 225}\"\"\"\n",
    "\n",
    "y={x:x*x for x in range(1,16)} \n",
    "print(y)\n",
    "        \n",
    "        "
   ]
  },
  {
   "cell_type": "code",
   "execution_count": 52,
   "metadata": {},
   "outputs": [
    {
     "name": "stdout",
     "output_type": "stream",
     "text": [
      "{'a': 10, 'b': 20, 'x': 30, 'y': 40}\n"
     ]
    }
   ],
   "source": [
    "'''13. Write a Python program to merge two dictionaries. \n",
    "    Data:\n",
    "        d1 = {\"a\":10, \"b\":20}\n",
    "        d2 = {\"x\":30, \"y\":40}\n",
    "    Expected Output:\n",
    "        {'a': 10, 'b': 20, 'x': 30, 'y': 40}'''\n",
    "\n",
    "d1 = {\"a\":10, \"b\":20}\n",
    "d2 = {\"x\":30, \"y\":40}       \n",
    "d1.update(d2)\n",
    "print(d1)\n",
    "        \n",
    "        "
   ]
  },
  {
   "cell_type": "code",
   "execution_count": 56,
   "metadata": {},
   "outputs": [
    {
     "name": "stdout",
     "output_type": "stream",
     "text": [
      "Bihar Patna\n",
      "Sikkim Gangtok\n",
      "Goa Panaji\n"
     ]
    }
   ],
   "source": [
    "'''14. Write a Python program to iterate over a dictionary and print all the keys and values using for loops.\n",
    "    Data:\n",
    "        d = {\"Bihar\":'Patna', \"Sikkim\":'Gangtok', \"Goa\":'Panaji'}\n",
    "    Expected Output:\n",
    "        Bihar   Patna\n",
    "        Sikkim  Gangtok\n",
    "        Goa     Panaji'''\n",
    "\n",
    "d = {\"Bihar\":'Patna', \"Sikkim\":'Gangtok', \"Goa\":'Panaji'}\n",
    "k=d.keys()\n",
    "v=d.values()        \n",
    "\n",
    "for k,v in zip(k,v):\n",
    "    print(f\"{k} {v}\")"
   ]
  },
  {
   "cell_type": "code",
   "execution_count": 57,
   "metadata": {},
   "outputs": [
    {
     "name": "stdout",
     "output_type": "stream",
     "text": [
      "Counter({'a': 40, 'b': 40, 'd': 40, 'c': 30})\n"
     ]
    }
   ],
   "source": [
    "'''15. Write a Python program to add the values of common keys by combining two dictionaries.\n",
    "    Data:\n",
    "        d1 = {'a': 10, 'b': 20, 'c':30}\n",
    "        d2 = {'a': 30, 'b': 20, 'd':40}\n",
    "    Expected Output:    \n",
    "        Counter({'a': 40, 'b': 40, 'd': 40, 'c': 30}) '''\n",
    "        \n",
    "from collections import Counter\n",
    "\n",
    "d1 = {'a': 10, 'b': 20, 'c': 30}\n",
    "d2 = {'a': 30, 'b': 20, 'd': 40}\n",
    "\n",
    "result = Counter(d1) + Counter(d2)\n",
    "print(result)\n",
    "        \n",
    "    "
   ]
  },
  {
   "cell_type": "code",
   "execution_count": 1,
   "metadata": {},
   "outputs": [
    {
     "name": "stdout",
     "output_type": "stream",
     "text": [
      "ac\n",
      "ad\n",
      "bc\n",
      "bd\n"
     ]
    }
   ],
   "source": [
    "'''16. Write a Python program to create and display all combinations of letters, selecting each letter from a different key in a dictionary.\n",
    "    Data:\n",
    "        {'1':['a','b'], '2':['c','d']}\n",
    "    Expected Output: \n",
    "        ac\n",
    "        ad\n",
    "        bc\n",
    "        bd\n",
    "        '''\n",
    "import itertools\n",
    "\n",
    "data = {'1': ['a', 'b'], '2': ['c', 'd']}\n",
    "\n",
    "lists = [data[key] for key in sorted(data.keys())]\n",
    "\n",
    "for combo in itertools.product(*lists):\n",
    "    print(''.join(combo))\n",
    "        \n",
    "    "
   ]
  },
  {
   "cell_type": "code",
   "execution_count": 5,
   "metadata": {},
   "outputs": [
    {
     "name": "stdout",
     "output_type": "stream",
     "text": [
      "[('b', 5874), ('e', 5874), ('c', 560), ('a', 500), ('d', 400), ('f', 20)]\n",
      "['b', 'e', 'c']\n"
     ]
    }
   ],
   "source": [
    "'''17. Write a Python program to find the highest 3 values and print the corresponding keys from a dictionary.\n",
    "    Data:\n",
    "        d = {'a':500, 'b':5874, 'c': 560,'d':400, 'e':5874, 'f': 20} \n",
    "    Expected Output: \n",
    "        ['b', 'e', 'c']'''\n",
    "        \n",
    "d = {'a':500, 'b':5874, 'c':560, 'd':400, 'e':5874, 'f':20}\n",
    "\n",
    "sorted_items = sorted(d.items(), key=lambda x: x[1], reverse=True)\n",
    "print(sorted_items)\n",
    "\n",
    "\n",
    "top_keys = [k for k, v in sorted_items[:3]]\n",
    "\n",
    "print(top_keys)\n",
    "        \n"
   ]
  },
  {
   "cell_type": "code",
   "execution_count": 6,
   "metadata": {},
   "outputs": [
    {
     "name": "stdout",
     "output_type": "stream",
     "text": [
      "C1 C2 C3\n",
      "1 5 9\n",
      "2 6 10\n",
      "3 7 11\n"
     ]
    }
   ],
   "source": [
    "'''18. Write a Python program to print the dictionary in a table format.\n",
    "    Data:\n",
    "        d = {'C1':[1,2,3], 'C2':[5,6,7], 'C3':[9,10,11]}\n",
    "    Expected Output:\n",
    "        C1 C2 C3\n",
    "        1  5  9\n",
    "        2  6  10\n",
    "        3  7  11'''\n",
    "        \n",
    "d = {'C1': [1, 2, 3], 'C2': [5, 6, 7], 'C3': [9, 10, 11]}\n",
    "\n",
    "headers = list(d.keys())\n",
    "print(' '.join(headers))\n",
    "\n",
    "num_rows = len(next(iter(d.values())))\n",
    "\n",
    "for i in range(num_rows):\n",
    "    row = [str(d[key][i]) for key in headers]\n",
    "    print(' '.join(row))     \n",
    "        \n",
    "        "
   ]
  },
  {
   "cell_type": "code",
   "execution_count": 7,
   "metadata": {},
   "outputs": [
    {
     "name": "stdout",
     "output_type": "stream",
     "text": [
      "{1: {2: {3: {4: {}}}}}\n"
     ]
    }
   ],
   "source": [
    "'''19. Write a Python program to convert a list into a nested dictionary of keys.\n",
    "    Data:\n",
    "        d = [1, 2, 3, 4]\n",
    "    Expected Output:\n",
    "        {1: {2: {3: {4: {}}}}} '''\n",
    "        \n",
    "d = [1, 2, 3, 4]\n",
    "\n",
    "nested_dict = {}\n",
    "for key in reversed(d):\n",
    "    nested_dict = {key: nested_dict}\n",
    "\n",
    "print(nested_dict)    \n",
    "        \n",
    "        "
   ]
  },
  {
   "cell_type": "code",
   "execution_count": 16,
   "metadata": {},
   "outputs": [
    {
     "name": "stdout",
     "output_type": "stream",
     "text": [
      "{'n1': [1, 2, 3], 'n2': [1, 2, 5], 'n3': [2, 3, 4]}\n"
     ]
    }
   ],
   "source": [
    "'''20. Write a Python program to sort a list of values alphabetically in a dictionary.\n",
    "    Data:\n",
    "        d = {'n1': [2, 3, 1], 'n2': [5, 1, 2], 'n3': [3, 2, 4]}\n",
    "    Expected Output:\n",
    "        {'n1': [1, 2, 3], 'n2': [1, 2, 5], 'n3': [2, 3, 4]}\n",
    "'''          \n",
    "d = {'n1': [2, 3, 1], 'n2': [5, 1, 2], 'n3': [3, 2, 4]}\n",
    "\n",
    "sorted_d = {k: sorted(v) for k, v in d.items()}\n",
    "\n",
    "print(sorted_d)  \n",
    "            "
   ]
  },
  {
   "cell_type": "code",
   "execution_count": null,
   "metadata": {},
   "outputs": [],
   "source": []
  }
 ],
 "metadata": {
  "kernelspec": {
   "display_name": "Python [conda env:base] *",
   "language": "python",
   "name": "conda-base-py"
  },
  "language_info": {
   "codemirror_mode": {
    "name": "ipython",
    "version": 3
   },
   "file_extension": ".py",
   "mimetype": "text/x-python",
   "name": "python",
   "nbconvert_exporter": "python",
   "pygments_lexer": "ipython3",
   "version": "3.13.5"
  }
 },
 "nbformat": 4,
 "nbformat_minor": 4
}
